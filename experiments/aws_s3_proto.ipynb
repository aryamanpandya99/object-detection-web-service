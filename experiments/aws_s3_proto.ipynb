{
 "cells": [
  {
   "cell_type": "code",
   "execution_count": null,
   "metadata": {},
   "outputs": [],
   "source": [
    "import boto3\n",
    "\n",
    "\n",
    "s3_resource = boto3.resource(\"s3\")\n",
    "print(\"Hello, Amazon S3! Let's list your buckets:\")\n",
    "for bucket in s3_resource.buckets.all():\n",
    "    print(f\"\\t{bucket.name}\")\n",
    "\n",
    "\n"
   ]
  }
 ],
 "metadata": {
  "language_info": {
   "name": "python"
  }
 },
 "nbformat": 4,
 "nbformat_minor": 2
}
