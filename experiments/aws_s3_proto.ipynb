{
 "cells": [
  {
   "cell_type": "code",
   "execution_count": 2,
   "metadata": {},
   "outputs": [
    {
     "name": "stdout",
     "output_type": "stream",
     "text": [
      "Hello, Amazon S3! Let's list your buckets:\n",
      "\tvideo-aws-bucket\n"
     ]
    }
   ],
   "source": [
    "import boto3\n",
    "\n",
    "\n",
    "s3_resource = boto3.resource(\"s3\")\n",
    "print(\"Hello, Amazon S3! Let's list your buckets:\")\n",
    "for bucket in s3_resource.buckets.all():\n",
    "    print(f\"\\t{bucket.name}\")"
   ]
  },
  {
   "cell_type": "code",
   "execution_count": 2,
   "metadata": {},
   "outputs": [
    {
     "name": "stdout",
     "output_type": "stream",
     "text": [
      "File uploaded successfully\n"
     ]
    }
   ],
   "source": [
    "import boto3\n",
    "\n",
    "# Initialize a session using Amazon S3\n",
    "s3 = boto3.client('s3')\n",
    "\n",
    "# File to be uploaded\n",
    "file_name = \"images/poatan.png\"\n",
    "bucket_name = 'video-aws-bucket'\n",
    "object_name = 'image_0.png' \n",
    "\n",
    "# Upload the file\n",
    "try:\n",
    "    response = s3.upload_file(file_name, bucket_name, object_name)\n",
    "    print(\"File uploaded successfully\")\n",
    "except Exception as e:\n",
    "    print(f\"Error uploading file: {e}\")\n"
   ]
  },
  {
   "cell_type": "markdown",
   "metadata": {},
   "source": [
    "## Upload Video Frames to AWS\n",
    "\n",
    "When uploading to the bucket, we're going to want to make sure that the same file name is not duplicated. In order to do this, we're going to maintain a key-value store containing video names and metadata"
   ]
  },
  {
   "cell_type": "code",
   "execution_count": 5,
   "metadata": {},
   "outputs": [
    {
     "name": "stdout",
     "output_type": "stream",
     "text": [
      "Metadata uploaded with unique ID: True\n"
     ]
    }
   ],
   "source": [
    "import boto3\n",
    "import time\n",
    "from botocore.exceptions import ClientError\n",
    "\n",
    "def upload_metadata(video_name, table):\n",
    "    try:\n",
    "        # Check if video_name already exists\n",
    "        response = table.get_item(Key={'video_name': video_name})\n",
    "        if 'Item' in response:\n",
    "            raise ValueError(f\"Video name '{video_name}' already exists.\")\n",
    "        \n",
    "        table.put_item(\n",
    "            Item={\n",
    "                'video_name': video_name,\n",
    "                'timestamp': int(time.time())\n",
    "            }\n",
    "        )\n",
    "    except ClientError as e:\n",
    "        print(e.response['Error']['Message'])\n",
    "        return False\n",
    "    except ValueError as e:\n",
    "        print(e)\n",
    "        return False\n",
    "    \n",
    "    return True\n",
    "\n",
    "# Example use\n",
    "video_name = \"example_video\"\n",
    "dynamodb = boto3.resource('dynamodb')\n",
    "table = dynamodb.Table('video_names')\n",
    "unique_id = upload_metadata(video_name, table)\n",
    "if unique_id:\n",
    "    print(f\"Metadata uploaded with unique ID: {unique_id}\")\n",
    "else:\n",
    "    print(\"Failed to upload metadata.\")"
   ]
  },
  {
   "cell_type": "code",
   "execution_count": null,
   "metadata": {},
   "outputs": [],
   "source": []
  }
 ],
 "metadata": {
  "kernelspec": {
   "display_name": "new_ml_prod",
   "language": "python",
   "name": "python3"
  },
  "language_info": {
   "codemirror_mode": {
    "name": "ipython",
    "version": 3
   },
   "file_extension": ".py",
   "mimetype": "text/x-python",
   "name": "python",
   "nbconvert_exporter": "python",
   "pygments_lexer": "ipython3",
   "version": "3.10.14"
  }
 },
 "nbformat": 4,
 "nbformat_minor": 2
}
