{
 "cells": [
  {
   "cell_type": "code",
   "execution_count": 3,
   "metadata": {},
   "outputs": [
    {
     "name": "stdout",
     "output_type": "stream",
     "text": [
      "Hello, Amazon S3! Let's list your buckets:\n",
      "\tvideo-aws-bucket\n"
     ]
    }
   ],
   "source": [
    "import boto3\n",
    "\n",
    "\n",
    "s3_resource = boto3.resource(\"s3\")\n",
    "print(\"Hello, Amazon S3! Let's list your buckets:\")\n",
    "for bucket in s3_resource.buckets.all():\n",
    "    print(f\"\\t{bucket.name}\")"
   ]
  },
  {
   "cell_type": "code",
   "execution_count": 4,
   "metadata": {},
   "outputs": [
    {
     "name": "stdout",
     "output_type": "stream",
     "text": [
      "File uploaded successfully\n"
     ]
    }
   ],
   "source": [
    "s3 = boto3.client('s3')\n",
    "\n",
    "# File to be uploaded\n",
    "file_name = \"images/poatan.png\"\n",
    "bucket_name = 'video-aws-bucket'\n",
    "object_name = 'image_0.png' \n",
    "\n",
    "# Upload the file\n",
    "try:\n",
    "    response = s3.upload_file(file_name, bucket_name, object_name)\n",
    "    print(\"File uploaded successfully\")\n",
    "except Exception as e:\n",
    "    print(f\"Error uploading file: {e}\")\n"
   ]
  },
  {
   "cell_type": "markdown",
   "metadata": {},
   "source": [
    "## Upload Video Frames to AWS\n",
    "\n",
    "When uploading to the bucket, we're going to want to make sure that the same file name is not duplicated. In order to do this, we're going to maintain a key-value store containing video names and metadata"
   ]
  },
  {
   "cell_type": "code",
   "execution_count": 5,
   "metadata": {},
   "outputs": [
    {
     "name": "stdout",
     "output_type": "stream",
     "text": [
      "Video name 'example_video' already exists.\n",
      "Failed to upload metadata.\n"
     ]
    }
   ],
   "source": [
    "import time\n",
    "from botocore.exceptions import ClientError\n",
    "\n",
    "def upload_metadata(video_name, table):\n",
    "    try:\n",
    "        # Check if video_name already exists\n",
    "        response = table.get_item(Key={'video_name': video_name})\n",
    "        if 'Item' in response:\n",
    "            raise ValueError(f\"Video name '{video_name}' already exists.\")\n",
    "        \n",
    "        table.put_item(\n",
    "            Item={\n",
    "                'video_name': video_name,\n",
    "                'timestamp': int(time.time())\n",
    "            }\n",
    "        )\n",
    "    except ClientError as e:\n",
    "        print(e.response['Error']['Message'])\n",
    "        return False\n",
    "    except ValueError as e:\n",
    "        print(e)\n",
    "        return False\n",
    "    \n",
    "    return True\n",
    "\n",
    "# Example use\n",
    "video_name = \"example_video\"\n",
    "dynamodb = boto3.resource('dynamodb')\n",
    "table = dynamodb.Table('video_names')\n",
    "unique_id = upload_metadata(video_name, table)\n",
    "if unique_id:\n",
    "    print(f\"Metadata uploaded with unique ID: {unique_id}\")\n",
    "else:\n",
    "    print(\"Failed to upload metadata.\")"
   ]
  },
  {
   "cell_type": "code",
   "execution_count": 6,
   "metadata": {},
   "outputs": [],
   "source": [
    "import cv2\n",
    "\n",
    "def video_to_frames(video_path: str) -> list:\n",
    "    try:\n",
    "        vidcap = cv2.VideoCapture(video_path)\n",
    "        if not vidcap.isOpened():\n",
    "            raise ValueError(f\"Failed to open video at path: {video_path}\")\n",
    "        \n",
    "        success, image = vidcap.read()\n",
    "        count = 0\n",
    "        frames = []\n",
    "        while success:\n",
    "            frames.append(image)\n",
    "            success, image = vidcap.read()\n",
    "            count += 1\n",
    "        \n",
    "        print(f\"Read {count} frames\")\n",
    "        \n",
    "        return frames\n",
    "    \n",
    "    except cv2.error as e:\n",
    "        print(f\"Error reading video: {e}\")\n",
    "        return []\n",
    "    except ValueError as e:\n",
    "        print(e)\n",
    "        return []"
   ]
  },
  {
   "cell_type": "code",
   "execution_count": 7,
   "metadata": {},
   "outputs": [],
   "source": [
    "import io \n",
    "\n",
    "def upload_video_frames(video_path, table, bucket_name):\n",
    "    frames = video_to_frames(video_path)\n",
    "    if not frames:\n",
    "        print(\"Failed to read video frames.\")\n",
    "        return False\n",
    "    video_name = video_path.split('/')[-1].split('.')[0]\n",
    "    video_in_db = upload_metadata(video_name, table)\n",
    "    if not video_in_db:\n",
    "        print(\"Failed to upload metadata.\")\n",
    "        return False\n",
    "    else: \n",
    "        s3_client = boto3.client('s3')\n",
    "        for i, frame in enumerate(frames): \n",
    "            frame_name = f\"{video_name}_frame_{i}.png\"\n",
    "            image = Image.fromarray(frame)\n",
    "            image_buffer = io.BytesIO()\n",
    "            image.save(image_buffer, format='PNG')\n",
    "            image_buffer.seek(0)\n",
    "            try: \n",
    "                s3_client.upload_fileobj(image_buffer, bucket_name, frame_name)\n",
    "                print(f'Uploaded {frame_name} to {bucket_name}')\n",
    "            except ClientError as e:\n",
    "                print(f\"dropped frame: {e.response['Error']['Message']}\")\n",
    "\n",
    "            image_buffer.close()"
   ]
  },
  {
   "cell_type": "code",
   "execution_count": 8,
   "metadata": {},
   "outputs": [
    {
     "name": "stdout",
     "output_type": "stream",
     "text": [
      "Read 159 frames\n",
      "Video name 'psa' already exists.\n",
      "Failed to upload metadata.\n"
     ]
    },
    {
     "data": {
      "text/plain": [
       "False"
      ]
     },
     "execution_count": 8,
     "metadata": {},
     "output_type": "execute_result"
    }
   ],
   "source": [
    "upload_video_frames('videos/psa.mp4', table, 'video-aws-bucket')"
   ]
  },
  {
   "cell_type": "code",
   "execution_count": null,
   "metadata": {},
   "outputs": [],
   "source": []
  }
 ],
 "metadata": {
  "kernelspec": {
   "display_name": "new_ml_prod",
   "language": "python",
   "name": "python3"
  },
  "language_info": {
   "codemirror_mode": {
    "name": "ipython",
    "version": 3
   },
   "file_extension": ".py",
   "mimetype": "text/x-python",
   "name": "python",
   "nbconvert_exporter": "python",
   "pygments_lexer": "ipython3",
   "version": "3.10.14"
  }
 },
 "nbformat": 4,
 "nbformat_minor": 2
}
