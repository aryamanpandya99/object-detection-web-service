{
 "cells": [
  {
   "cell_type": "code",
   "execution_count": null,
   "metadata": {},
   "outputs": [],
   "source": [
    "import requests\n",
    "\n",
    "url = \"http://127.0.0.1:5000/process\"\n",
    "file_path = \"images/poatan.png\"\n",
    "\n",
    "with open(file_path, \"rb\") as file:\n",
    "    files = {\"frame\": (file_path, file)}\n",
    "    response = requests.post(url, files=files)\n",
    "\n",
    "print(response)\n",
    "print(response.json())"
   ]
  },
  {
   "cell_type": "code",
   "execution_count": null,
   "metadata": {},
   "outputs": [],
   "source": [
    "# now, using the K8s ingress\n",
    "url = \"http://video-processing.com/process\"\n",
    "file_path = \"images/poatan.png\"\n",
    "\n",
    "with open(file_path, \"rb\") as file:\n",
    "    files = {\"frame\": (file_path, file)}\n",
    "    response = requests.post(url, files=files)\n",
    "\n",
    "print(response)\n",
    "print(response.json())"
   ]
  },
  {
   "cell_type": "code",
   "execution_count": null,
   "metadata": {},
   "outputs": [],
   "source": []
  }
 ],
 "metadata": {
  "kernelspec": {
   "display_name": "cv_project",
   "language": "python",
   "name": "python3"
  },
  "language_info": {
   "codemirror_mode": {
    "name": "ipython",
    "version": 3
   },
   "file_extension": ".py",
   "mimetype": "text/x-python",
   "name": "python",
   "nbconvert_exporter": "python",
   "pygments_lexer": "ipython3",
   "version": "3.10.14"
  }
 },
 "nbformat": 4,
 "nbformat_minor": 2
}
