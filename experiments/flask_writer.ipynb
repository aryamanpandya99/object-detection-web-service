{
 "cells": [
  {
   "cell_type": "code",
   "execution_count": null,
   "metadata": {},
   "outputs": [],
   "source": [
    "import requests\n",
    "\n",
    "url = \"http://127.0.0.1:5000\"\n",
    "file_path = \"images/poatan.png\"\n",
    "\n",
    "with open(file_path, \"rb\") as file:\n",
    "    files = {\"frame\": (file_path, file)}\n",
    "    response = requests.post(url, files=files)\n",
    "\n",
    "print(response.json())"
   ]
  }
 ],
 "metadata": {
  "language_info": {
   "name": "python"
  }
 },
 "nbformat": 4,
 "nbformat_minor": 2
}
