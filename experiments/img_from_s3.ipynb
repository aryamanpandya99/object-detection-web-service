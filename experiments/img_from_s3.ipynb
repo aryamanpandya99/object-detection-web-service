{
 "cells": [
  {
   "cell_type": "code",
   "execution_count": 3,
   "metadata": {},
   "outputs": [],
   "source": [
    "import json\n",
    "from ultralytics import YOLO\n",
    "from PIL import Image\n",
    "import cv2\n",
    "import numpy as np\n",
    "import io\n",
    "import boto3\n",
    "import torch\n",
    "import torchvision.transforms.functional as F\n",
    "\n",
    "\n",
    "def frames_from_s3_paths(s3_paths: list, ) -> list:\n",
    "    s3 = boto3.client('s3')\n",
    "    stacked_frames = None\n",
    "    \n",
    "    for path in s3_paths:\n",
    "        response = s3.get_object(Bucket='video-aws-bucket', Key=path)\n",
    "        image_bytes = response['Body'].read()\n",
    "        image = Image.open(io.BytesIO(image_bytes))\n",
    "        frame = F.pil_to_tensor(image)\n",
    "        \n",
    "        if stacked_frames is None:\n",
    "            stacked_frames = frame.unsqueeze(0)  # Add batch dimension\n",
    "        else:\n",
    "            stacked_frames = torch.cat((stacked_frames, frame.unsqueeze(0)), dim=0)\n",
    "    \n",
    "    return stacked_frames\n",
    "\n",
    "\n",
    "paths = [\"psa_1_frame_1.png\", \"psa_1_frame_2.png\", \"psa_1_frame_3.png\"]\n",
    "\n",
    "frames = frames_from_s3_paths(paths)"
   ]
  },
  {
   "cell_type": "code",
   "execution_count": 5,
   "metadata": {},
   "outputs": [
    {
     "data": {
      "text/plain": [
       "[]"
      ]
     },
     "execution_count": 5,
     "metadata": {},
     "output_type": "execute_result"
    }
   ],
   "source": [
    "frames"
   ]
  },
  {
   "cell_type": "code",
   "execution_count": 4,
   "metadata": {},
   "outputs": [
    {
     "ename": "IndexError",
     "evalue": "list index out of range",
     "output_type": "error",
     "traceback": [
      "\u001b[0;31m---------------------------------------------------------------------------\u001b[0m",
      "\u001b[0;31mIndexError\u001b[0m                                Traceback (most recent call last)",
      "Cell \u001b[0;32mIn[4], line 3\u001b[0m\n\u001b[1;32m      1\u001b[0m \u001b[38;5;28;01mfrom\u001b[39;00m \u001b[38;5;21;01mPIL\u001b[39;00m \u001b[38;5;28;01mimport\u001b[39;00m Image\n\u001b[0;32m----> 3\u001b[0m Image\u001b[38;5;241m.\u001b[39mfromarray(\u001b[43mframes\u001b[49m\u001b[43m[\u001b[49m\u001b[38;5;241;43m0\u001b[39;49m\u001b[43m]\u001b[49m, mode\u001b[38;5;241m=\u001b[39m\u001b[38;5;124m'\u001b[39m\u001b[38;5;124mRGB\u001b[39m\u001b[38;5;124m'\u001b[39m)\n",
      "\u001b[0;31mIndexError\u001b[0m: list index out of range"
     ]
    }
   ],
   "source": [
    "from PIL import Image\n",
    "\n",
    "Image.fromarray(frames[0], mode='RGB')"
   ]
  },
  {
   "cell_type": "code",
   "execution_count": null,
   "metadata": {},
   "outputs": [],
   "source": []
  }
 ],
 "metadata": {
  "kernelspec": {
   "display_name": "new_ml_prod",
   "language": "python",
   "name": "python3"
  },
  "language_info": {
   "codemirror_mode": {
    "name": "ipython",
    "version": 3
   },
   "file_extension": ".py",
   "mimetype": "text/x-python",
   "name": "python",
   "nbconvert_exporter": "python",
   "pygments_lexer": "ipython3",
   "version": "3.10.14"
  }
 },
 "nbformat": 4,
 "nbformat_minor": 2
}
